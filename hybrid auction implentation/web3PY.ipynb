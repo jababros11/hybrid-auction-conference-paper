{
 "cells": [
  {
   "cell_type": "code",
   "execution_count": null,
   "metadata": {},
   "outputs": [],
   "source": [
    "# opening the SCR file\n",
    "\n",
    "with open(\"./SCR.sol\", \"r\") as file:\n",
    "    registrationFile = file.read()\n",
    "\n",
    "# Opening the SCA File\n",
    "    \n",
    "with open(\"./SCA.sol\", \"r\") as file:\n",
    "    AuctioneerFile = file.read()"
   ]
  },
  {
   "cell_type": "code",
   "execution_count": null,
   "metadata": {},
   "outputs": [],
   "source": [
    "#compiling smart contract of certifier\n",
    "install_solc(\"0.8.2\")\n",
    "compiled_sol = compile_standard(\n",
    "    {\n",
    "        \"language\": \"Solidity\",\n",
    "        \"sources\": {\"SCR.sol\": {\"content\": registrationFile}},\n",
    "        \"settings\": {\n",
    "            \"outputSelection\": {\n",
    "                \"*\": {\n",
    "                    \"*\": [\"abi\", \"metadata\", \"evm.bytecode\", \"evm.bytecode.sourceMap\"]\n",
    "                }\n",
    "            }\n",
    "        },\n",
    "    },\n",
    "    solc_version=\"0.8.2\",\n",
    ")\n",
    "\n",
    "with open(\"compiled_code.json\", \"w\") as file:\n",
    "    json.dump(compiled_sol, file)"
   ]
  },
  {
   "cell_type": "code",
   "execution_count": null,
   "metadata": {},
   "outputs": [],
   "source": [
    "# get bytecode\n",
    "bytecode = compiled_sol[\"contracts\"][\"SCR.sol\"][\"Registration\"][\"evm\"][\"bytecode\"][\"object\"]\n",
    "\n",
    "# get abi\n",
    "abi = json.loads(\n",
    "    compiled_sol[\"contracts\"][\"SCR.sol\"][\"Registration\"][\"metadata\"]\n",
    ")[\"output\"][\"abi\"]"
   ]
  },
  {
   "cell_type": "code",
   "execution_count": null,
   "metadata": {},
   "outputs": [],
   "source": [
    "# compiling SmartContract of auctioneer\n",
    "install_solc(\"0.8.2\")\n",
    "compiled_solA = compile_standard(\n",
    "    {\n",
    "        \"language\": \"Solidity\",\n",
    "        \"sources\": {\"SCA.sol\": {\"content\": AuctioneerFile}},\n",
    "        \"settings\": {\n",
    "            \"outputSelection\": {\n",
    "                \"*\": {\n",
    "                    \"*\": [\"abi\", \"metadata\", \"evm.bytecode\", \"evm.bytecode.sourceMap\"]\n",
    "                }\n",
    "            }\n",
    "        },\n",
    "    },\n",
    "    solc_version=\"0.8.2\",\n",
    ")\n",
    "\n",
    "with open(\"compiled_code.json\", \"w\") as file:\n",
    "    json.dump(compiled_solA, file)"
   ]
  },
  {
   "cell_type": "code",
   "execution_count": null,
   "metadata": {},
   "outputs": [],
   "source": [
    "# get bytecode\n",
    "bytecodeA = compiled_solA[\"contracts\"][\"SCA.sol\"][\"Submission\"][\"evm\"][\"bytecode\"][\"object\"]\n",
    "\n",
    "# get abi\n",
    "abiA = json.loads(\n",
    "    compiled_solA[\"contracts\"][\"SCA.sol\"][\"Submission\"][\"metadata\"]\n",
    ")[\"output\"][\"abi\"]"
   ]
  },
  {
   "cell_type": "code",
   "execution_count": null,
   "metadata": {},
   "outputs": [],
   "source": [
    "# set up connection for certifier\n",
    "w3 = Web3(Web3.HTTPProvider(\"HTTP://127.0.0.1:7545\"))\n",
    "chain_id = 1337\n",
    "my_address = '0x19cfa72e6e0a5aF136111EAC2A96ed744b9b9627'\n",
    "#private_key = os.getenv(\"PRIVATE_KEY\")\n",
    "private_key = '0xd54a7c95acc41adb4c5538dfcf8f5b7304f10ce94eb35d29dec7f801a99a74cd'"
   ]
  },
  {
   "cell_type": "code",
   "execution_count": null,
   "metadata": {},
   "outputs": [],
   "source": [
    "# set up connection for auctioneer\n",
    "w3 = Web3(Web3.HTTPProvider(\"HTTP://127.0.0.1:7545\"))\n",
    "chain_id = 1337\n",
    "my_addressA = '0x5CB5c633033371f642161Ee73147a4Bf4AD07493'\n",
    "#private_key = os.getenv(\"PRIVATE_KEY\")\n",
    "private_keyA = \"0xfc5f8f7fca9db1d890858548ec026c96f189501d5a1b1ceeb92e74b7b4f38670\""
   ]
  },
  {
   "cell_type": "code",
   "execution_count": null,
   "metadata": {},
   "outputs": [],
   "source": [
    "def registrationPhaseFunctiontoInitializeSCR():\n",
    "    # initialize contract\n",
    "    Registration = w3.eth.contract(abi=abi, bytecode=bytecode)\n",
    "    nonce = w3.eth.get_transaction_count(my_address)\n",
    "    # set up transaction from constructor which executes when firstly we are trasacting the smart contract\n",
    "\n",
    "    transaction = Registration.constructor().build_transaction(\n",
    "        {\"chainId\": chain_id, \"from\": my_address, \"nonce\": nonce}\n",
    "    )\n",
    "    # Second requirement sign the transaction\n",
    "    signed_tx = w3.eth.account.sign_transaction(transaction, private_key=private_key)\n",
    "\n",
    "    # Third requirement is to get the transation hash value\n",
    "\n",
    "    tx_hash = w3.eth.send_raw_transaction(signed_tx.rawTransaction)\n",
    "\n",
    "    #  after geeting hash get the recipetpt of the transaction\n",
    "    tx_receipt = w3.eth.wait_for_transaction_receipt(tx_hash)\n",
    "\n",
    "    return [tx_receipt, nonce]"
   ]
  },
  {
   "cell_type": "code",
   "execution_count": null,
   "metadata": {},
   "outputs": [],
   "source": [
    "def registrationFunctionForSCRToStoreAndRetrieveUID (tx_receipt, nonce,UID):\n",
    "    # calling functions in contract block\n",
    "    # to work with a contract, you need abi and address\n",
    "    #  this line call the the contract by passing the abi and adress of the transactoin\n",
    "\n",
    "    registration_sol = w3.eth.contract(abi=abi, address=tx_receipt.contractAddress)\n",
    "\n",
    "    #  whenever we want to uipdate something we trsact that value so gas is used for that purpose we agin perfomr the transaction\n",
    "\n",
    "    call_fun = registration_sol.functions.store(UID).build_transaction(\n",
    "        {\"chainId\": chain_id, \"from\": my_address, \"nonce\": nonce + 1}\n",
    "    )\n",
    "    # again sign and same procedure\n",
    "\n",
    "    sign_call_fun = w3.eth.account.sign_transaction(call_fun, private_key=private_key)\n",
    "    tx_call_fun_hash = w3.eth.send_raw_transaction(sign_call_fun.rawTransaction)\n",
    "    tx_call_fun_receipt = w3.eth.wait_for_transaction_receipt(tx_call_fun_hash)\n",
    "\n",
    "    # just viewing something from your transaction doesnt cost anyting\n",
    "\n",
    "    return registration_sol.functions.retrieve().call()\n"
   ]
  },
  {
   "cell_type": "code",
   "execution_count": null,
   "metadata": {},
   "outputs": [],
   "source": [
    "def bidSubmissionPhaseFunctiontoInitializeSCA():\n",
    "    # initialize contract\n",
    "    bidSubmission = w3.eth.contract(abi=abiA, bytecode=bytecodeA)\n",
    "    nonce = w3.eth.get_transaction_count(my_addressA)\n",
    "    # set up transaction from constructor which executes when firstly we are trasacting the smart contract\n",
    "\n",
    "    transaction =bidSubmission.constructor().build_transaction(\n",
    "        {\"chainId\": chain_id, \"from\": my_addressA, \"nonce\": nonce}\n",
    "    )\n",
    "    # Second requirement sign the transaction\n",
    "    signed_tx = w3.eth.account.sign_transaction(transaction, private_key=private_keyA)\n",
    "\n",
    "    # Third requirement is to get the transation hash value\n",
    "\n",
    "    tx_hash = w3.eth.send_raw_transaction(signed_tx.rawTransaction)\n",
    "\n",
    "    #  after geeting hash get the recipetpt of the transaction\n",
    "    tx_receipt = w3.eth.wait_for_transaction_receipt(tx_hash)\n",
    "\n",
    "    return [tx_receipt, nonce]"
   ]
  },
  {
   "cell_type": "code",
   "execution_count": null,
   "metadata": {},
   "outputs": [],
   "source": [
    "def bidSubmissionFunctionForSCAToStoreAndRetrievePB (tx_receipt, nonce,pb,**kwards:None):\n",
    "    # calling functions in contract block\n",
    "    # to work with a contract, you need abi and address\n",
    "    #  this line call the the contract by passing the abi and adress of the transactoin\n",
    "\n",
    "    bid_submission_sol = w3.eth.contract(abi=abiA, address=tx_receipt.contractAddress)\n",
    "\n",
    "    #  whenever we want to uipdate something we trsact that value so gas is used for that purpose we agin perfomr the transaction\n",
    "\n",
    "    call_fun = bid_submission_sol.functions.bidderEncryptedBidSubmission(pb).build_transaction(\n",
    "        {\"chainId\": chain_id, \"from\": my_addressA, \"nonce\": nonce + 1}\n",
    "    )\n",
    "    # again sign and same procedure\n",
    "\n",
    "    sign_call_fun = w3.eth.account.sign_transaction(call_fun, private_key=private_keyA)\n",
    "    tx_call_fun_hash = w3.eth.send_raw_transaction(sign_call_fun.rawTransaction)\n",
    "    tx_call_fun_receipt = w3.eth.wait_for_transaction_receipt(tx_call_fun_hash)\n",
    "\n",
    "    # just viewing something from your transaction doesnt cost anyting\n",
    "\n",
    "    return bid_submission_sol.functions.retrieveBidderEncryptedBidSubmission().call()\n"
   ]
  }
 ],
 "metadata": {
  "kernelspec": {
   "display_name": "Python 3",
   "language": "python",
   "name": "python3"
  },
  "language_info": {
   "codemirror_mode": {
    "name": "ipython",
    "version": 3
   },
   "file_extension": ".py",
   "mimetype": "text/x-python",
   "name": "python",
   "nbconvert_exporter": "python",
   "pygments_lexer": "ipython3",
   "version": "3.10.12"
  }
 },
 "nbformat": 4,
 "nbformat_minor": 2
}
