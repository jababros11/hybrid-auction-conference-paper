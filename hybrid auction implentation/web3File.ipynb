{
 "cells": [
  {
   "cell_type": "code",
   "execution_count": 39,
   "metadata": {},
   "outputs": [],
   "source": [
    "# this block imports all necessary libraries and a necessary thing is for this code to work, run ganache \n",
    "# and replace the address and publickeys as are required.\n",
    "\n",
    "from eth_utils import address\n",
    "from web3 import Web3\n",
    "import os\n",
    "import solcx\n",
    "from solcx import compile_standard, install_solc\n",
    "from dotenv import load_dotenv\n",
    "import json\n"
   ]
  },
  {
   "cell_type": "markdown",
   "metadata": {},
   "source": []
  },
  {
   "cell_type": "code",
   "execution_count": 40,
   "metadata": {},
   "outputs": [],
   "source": [
    "# opening the SCR contract file\n",
    "\n",
    "with open(\"./SCR.sol\", \"r\") as file:\n",
    "    registrationFile = file.read()\n"
   ]
  },
  {
   "cell_type": "code",
   "execution_count": 41,
   "metadata": {},
   "outputs": [],
   "source": [
    "#compiling smart contract of certifier(SCR)\n",
    "install_solc(\"0.8.2\")\n",
    "compiled_sol = compile_standard(\n",
    "    {\n",
    "        \"language\": \"Solidity\",\n",
    "        \"sources\": {\"SCR.sol\": {\"content\": registrationFile}},\n",
    "        \"settings\": {\n",
    "            \"outputSelection\": {\n",
    "                \"*\": {\n",
    "                    \"*\": [\"abi\", \"metadata\", \"evm.bytecode\", \"evm.bytecode.sourceMap\"]\n",
    "                }\n",
    "            }\n",
    "        },\n",
    "    },\n",
    "    solc_version=\"0.8.2\",\n",
    ")\n",
    "\n",
    "with open(\"compiled_code.json\", \"w\") as file:\n",
    "    json.dump(compiled_sol, file)"
   ]
  },
  {
   "cell_type": "code",
   "execution_count": 42,
   "metadata": {},
   "outputs": [],
   "source": [
    "# get bytecode\n",
    "bytecode = compiled_sol[\"contracts\"][\"SCR.sol\"][\"Registration\"][\"evm\"][\"bytecode\"][\"object\"]\n",
    "\n",
    "# get abi\n",
    "abi = json.loads(\n",
    "    compiled_sol[\"contracts\"][\"SCR.sol\"][\"Registration\"][\"metadata\"]\n",
    ")[\"output\"][\"abi\"]"
   ]
  },
  {
   "cell_type": "code",
   "execution_count": 43,
   "metadata": {},
   "outputs": [],
   "source": [
    "# Opening the SCA contract File\n",
    "    \n",
    "with open(\"./SCA.sol\", \"r\") as file:\n",
    "    AuctioneerFile = file.read()"
   ]
  },
  {
   "cell_type": "code",
   "execution_count": 44,
   "metadata": {},
   "outputs": [],
   "source": [
    "# compiling SmartContract of auctioneer(SCA)\n",
    "install_solc(\"0.8.2\")\n",
    "compiled_solA = compile_standard(\n",
    "    {\n",
    "        \"language\": \"Solidity\",\n",
    "        \"sources\": {\"SCA.sol\": {\"content\": AuctioneerFile}},\n",
    "        \"settings\": {\n",
    "            \"outputSelection\": {\n",
    "                \"*\": {\n",
    "                    \"*\": [\"abi\", \"metadata\", \"evm.bytecode\", \"evm.bytecode.sourceMap\"]\n",
    "                }\n",
    "            }\n",
    "        },\n",
    "    },\n",
    "    solc_version=\"0.8.2\",\n",
    ")\n",
    "\n",
    "with open(\"compiled_code.json\", \"w\") as file:\n",
    "    json.dump(compiled_solA, file)"
   ]
  },
  {
   "cell_type": "code",
   "execution_count": 45,
   "metadata": {},
   "outputs": [],
   "source": [
    "# get bytecode\n",
    "bytecodeA = compiled_solA[\"contracts\"][\"SCA.sol\"][\"Submission\"][\"evm\"][\"bytecode\"][\"object\"]\n",
    "\n",
    "# get abi\n",
    "abiA = json.loads(\n",
    "    compiled_solA[\"contracts\"][\"SCA.sol\"][\"Submission\"][\"metadata\"]\n",
    ")[\"output\"][\"abi\"]"
   ]
  },
  {
   "cell_type": "code",
   "execution_count": 46,
   "metadata": {},
   "outputs": [],
   "source": [
    "chainID = 1337\n",
    "chain_id =chainID\n",
    "httpServer = \"HTTP://127.0.0.1:7545\"\n",
    "w3 = Web3(Web3.HTTPProvider(httpServer))"
   ]
  },
  {
   "cell_type": "code",
   "execution_count": 47,
   "metadata": {},
   "outputs": [],
   "source": [
    "\n",
    "\n",
    "# set up connection for bidder\n",
    "\n",
    "my_addressB = '0xD10b89b8DaA01289AeB8d4351b5a8a768b2823eF'\n",
    "private_keyB = '0x0c04edb3ffedaaa3355339c0d39b38bb5a7c96ab76070340610e4739eaa10711'\n",
    "\n",
    "# set up connection for certifier\n",
    "\n",
    "my_addressC = '0x2602648B703727b5249Cf0Ff96Ab76afB00301b9'\n",
    "private_keyC = '0x12f7995fc9b21fea1121bcd8ab153a609b62b9f6f64943bf2b9b40cfa4e1dfff'\n",
    "\n",
    "# set up connection for auctioneer\n",
    "my_addressA = '0xa0885dbdaF530bFB3197d22FfC40B793090253fC'\n",
    "private_keyA = \"0xcae39772a5c3b56df7b697d2027828e8bec5534e2cc3724b489879a5433abcb9\""
   ]
  },
  {
   "cell_type": "code",
   "execution_count": 48,
   "metadata": {},
   "outputs": [],
   "source": [
    "def initalizeBidderContract(etherValue):\n",
    "    # initialize contract\n",
    "    nonce = w3.eth.get_transaction_count(my_addressB)\n",
    "    # set up transaction from constructor which executes when firstly we are trasacting the smart contract\n",
    "\n",
    "    transaction = {\n",
    "        \"chainId\": chain_id, \n",
    "        \"from\": my_addressB, \n",
    "        \"nonce\": nonce,\n",
    "        'to': my_addressA,\n",
    "        'value' : w3.to_wei(etherValue, 'ether'),\n",
    "        'gas': 2000000,\n",
    "        'gasPrice': w3.eth.gas_price\n",
    "        }\n",
    "    \n",
    "    \n",
    "    # Second requirement sign the transaction\n",
    "    signed_tx = w3.eth.account.sign_transaction(transaction, private_key=private_keyB)\n",
    "\n",
    "    # Third requirement is to get the transation hash value\n",
    "\n",
    "    tx_hash = w3.eth.send_raw_transaction(signed_tx.rawTransaction)\n",
    "\n",
    "    #  after geeting hash get the recipetpt of the transaction\n",
    "    \n",
    "    tx_receipt = w3.eth.wait_for_transaction_receipt(tx_hash)\n",
    "    # print(tx_receipt.gasUsed)\n",
    "\n",
    "    return [tx_receipt, nonce]\n"
   ]
  },
  {
   "cell_type": "code",
   "execution_count": 49,
   "metadata": {},
   "outputs": [],
   "source": [
    "# def bidderPayGas(tx_receipt, nonce,gasAmount):\n",
    "#     # calling functions in contract block\n",
    "#     # to work with a contract, you need abi and address\n",
    "#     #  this line call the the contract by passing the abi and adress of the transactoin\n",
    "\n",
    "#     fundTransfer_sol = w3.eth.contract(abi=abiB, address=tx_receipt.contractAddress)\n",
    "\n",
    "#     #  whenever we want to update something we trsact that value so gas is used for \n",
    "#     # that purpose we agin perform the transaction\n",
    "\n",
    "#     call_fun = fundTransfer_sol.functions.sendViaCall(my_addressA,gasAmount).build_transaction(\n",
    "#         {\"chainId\": chain_id, \"from\": my_addressB, \"nonce\": nonce + 1}\n",
    "#     )\n",
    "#     # again sign and same procedure\n",
    "\n",
    "#     sign_call_fun = w3.eth.account.sign_transaction(call_fun, private_key=private_keyB)\n",
    "#     tx_call_fun_hash = w3.eth.send_raw_transaction(sign_call_fun.rawTransaction)\n",
    "#     tx_call_fun_receipt = w3.eth.wait_for_transaction_receipt(tx_call_fun_hash)\n",
    "    "
   ]
  },
  {
   "cell_type": "code",
   "execution_count": 50,
   "metadata": {},
   "outputs": [],
   "source": [
    "def registrationPhaseFunctiontoInitializeSCR():\n",
    "    # initialize contract\n",
    "    Registration = w3.eth.contract(abi=abi, bytecode=bytecode)\n",
    "    nonce = w3.eth.get_transaction_count(my_addressC)\n",
    "    # set up transaction from constructor which executes when firstly we are trasacting the smart contract\n",
    "\n",
    "    transaction = Registration.constructor().build_transaction(\n",
    "        {\"chainId\": chain_id, \"from\": my_addressC, \"nonce\": nonce}\n",
    "    )\n",
    "    # Second requirement sign the transaction\n",
    "    signed_tx = w3.eth.account.sign_transaction(transaction, private_key=private_keyC)\n",
    "\n",
    "    # Third requirement is to get the transation hash value\n",
    "\n",
    "    tx_hash = w3.eth.send_raw_transaction(signed_tx.rawTransaction)\n",
    "\n",
    "    #  after geeting hash get the recipetpt of the transaction\n",
    "    \n",
    "    tx_receipt = w3.eth.wait_for_transaction_receipt(tx_hash)\n",
    "    # print(tx_receipt.gasUsed)\n",
    "\n",
    "    return [tx_receipt, nonce]"
   ]
  },
  {
   "cell_type": "code",
   "execution_count": 51,
   "metadata": {},
   "outputs": [],
   "source": [
    "def registrationFunctionForSCRToStoreUID (tx_receipt, nonce,UID):\n",
    "    # calling functions in contract block\n",
    "    # to work with a contract, you need abi and address\n",
    "    #  this line call the the contract by passing the abi and adress of the transactoin\n",
    "\n",
    "    registration_sol = w3.eth.contract(abi=abi, address=tx_receipt.contractAddress)\n",
    "\n",
    "    #  whenever we want to update something we trsact that value so gas is used for \n",
    "    # that purpose we agin perform the transaction\n",
    "\n",
    "    call_fun = registration_sol.functions.store(UID).build_transaction(\n",
    "        {\"chainId\": chain_id, \"from\": my_addressC, \"nonce\": nonce + 1}\n",
    "    )\n",
    "    # again sign and same procedure\n",
    "\n",
    "    sign_call_fun = w3.eth.account.sign_transaction(call_fun, private_key=private_keyC)\n",
    "    tx_call_fun_hash = w3.eth.send_raw_transaction(sign_call_fun.rawTransaction)\n",
    "    tx_call_fun_receipt = w3.eth.wait_for_transaction_receipt(tx_call_fun_hash)\n",
    "\n",
    "   \n"
   ]
  },
  {
   "cell_type": "code",
   "execution_count": 52,
   "metadata": {},
   "outputs": [],
   "source": [
    "def registrationFunctionForSCRToRetrieveUID(tx_receipt):\n",
    "    #certifier etrieves the submitted encrypted UID by the contract adress \n",
    "    registration_sol = w3.eth.contract(abi=abi, address=tx_receipt.contractAddress)\n",
    "    return registration_sol.functions.retrieve().call()\n"
   ]
  },
  {
   "cell_type": "code",
   "execution_count": 53,
   "metadata": {},
   "outputs": [],
   "source": [
    "def bidSubmissionPhaseFunctiontoInitializeSCA():\n",
    "    # initialize contract\n",
    "    bidSubmission = w3.eth.contract(abi=abiA, bytecode=bytecodeA)\n",
    "    nonce = w3.eth.get_transaction_count(my_addressA)\n",
    "    # set up transaction from constructor which executes when firstly we are trasacting the smart contract\n",
    "\n",
    "    transaction = bidSubmission.constructor().build_transaction(\n",
    "        {\"chainId\": chain_id, \"from\": my_addressA, \"nonce\": nonce}\n",
    "    )\n",
    "    # Second requirement sign the transaction\n",
    "    signed_tx = w3.eth.account.sign_transaction(transaction, private_key=private_keyA)\n",
    "\n",
    "    # Third requirement is to get the transation hash value\n",
    "\n",
    "    tx_hash = w3.eth.send_raw_transaction(signed_tx.rawTransaction)\n",
    "\n",
    "    #  after geeting hash get the recipetpt of the transaction\n",
    "    tx_receipt = w3.eth.wait_for_transaction_receipt(tx_hash)\n",
    "    return [tx_receipt, nonce]"
   ]
  },
  {
   "cell_type": "code",
   "execution_count": 54,
   "metadata": {},
   "outputs": [],
   "source": [
    "def bidSubmissionFunctionForSCAToStorePB(tx_receipt, nonce,pb,flag):\n",
    "    \n",
    "    bid_submission_sol = w3.eth.contract(abi=abiA,address=tx_receipt.contractAddress)                     \n",
    "    #  whenever we want to uipdate something we trsact that value so gas is used for that purpose we agin perfomr the transaction\n",
    "    if flag == 'aucVar':\n",
    "        call_fun = bid_submission_sol.functions.bidderEncryptedBidSubmission(pb).build_transaction({\"chainId\": chain_id, \"from\": my_addressA, \"nonce\": nonce + 1})\n",
    "    else:#flag ===bidVar\n",
    "        call_fun = bid_submission_sol.functions.updateBidderVariable(pb).build_transaction({\"chainId\": chain_id, \"from\": my_addressA, \"nonce\": nonce + 1})\n",
    "        \n",
    "    sign_call_fun = w3.eth.account.sign_transaction(call_fun, private_key=private_keyA)\n",
    "    tx_call_fun_hash = w3.eth.send_raw_transaction(sign_call_fun.rawTransaction)\n",
    "    tx_call_fun_receipt = w3.eth.wait_for_transaction_receipt(tx_call_fun_hash)"
   ]
  },
  {
   "cell_type": "code",
   "execution_count": 55,
   "metadata": {},
   "outputs": [],
   "source": [
    "def bidSubmissionFunctionForSCAToRetrievePB(tx_receipt,flag):\n",
    "    # calling functions in contract blockand address\n",
    "    #  this line call the the contract by passing the abi and adress of the transactoin\n",
    "\n",
    "    bid_submission_sol = w3.eth.contract(abi=abiA, address=tx_receipt.contractAddress)\n",
    "    \n",
    "    # just viewing something from your transaction doesnt cost anyting\n",
    "    if flag == 'aucVar':\n",
    "        return bid_submission_sol.functions.retrieveBidderEncryptedBidSubmission().call()\n",
    "    else:\n",
    "        return bid_submission_sol.functions.fetchVariable().call()\n"
   ]
  },
  {
   "cell_type": "code",
   "execution_count": 56,
   "metadata": {},
   "outputs": [],
   "source": [
    "# initalizeBidderContract(100)"
   ]
  }
 ],
 "metadata": {
  "kernelspec": {
   "display_name": "Python 3",
   "language": "python",
   "name": "python3"
  },
  "language_info": {
   "codemirror_mode": {
    "name": "ipython",
    "version": 3
   },
   "file_extension": ".py",
   "mimetype": "text/x-python",
   "name": "python",
   "nbconvert_exporter": "python",
   "pygments_lexer": "ipython3",
   "version": "3.10.12"
  }
 },
 "nbformat": 4,
 "nbformat_minor": 2
}
