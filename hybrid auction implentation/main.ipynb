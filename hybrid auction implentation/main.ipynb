{
 "cells": [
  {
   "cell_type": "code",
   "execution_count": 1835,
   "metadata": {},
   "outputs": [],
   "source": [
    "from eth_utils import address\n",
    "from web3 import Web3\n",
    "import os\n",
    "import solcx\n",
    "from solcx import compile_standard, install_solc\n",
    "from dotenv import load_dotenv\n",
    "import json\n",
    "import numpy as np\n",
    "import random as rd\n",
    "import hashlib \n",
    "from phe import paillier\n",
    "import random as rd\n",
    "from timeit import default_timer as timer\n",
    "import matplotlib.pyplot as plt\n",
    "import rsa\n",
    "from random import choice\n"
   ]
  },
  {
   "cell_type": "code",
   "execution_count": 1836,
   "metadata": {},
   "outputs": [],
   "source": [
    "listOfUID = [1,2]\n",
    "listofBID = []\n",
    "dictionaryOfPublicKeys = {}\n",
    "dictionaryOfPrivateKeys = {}\n",
    "dictOfRSAPubKey,dictOfRSAPriKey = {},{}\n",
    "publicKeyAuc, privateKeyAuc,RSApublicKeyAuc, RSAprivateKeyAuc = 0,0,0,0\n",
    "bidderHighest,bidHighest  = 0 , 0\n",
    "k = 0"
   ]
  },
  {
   "cell_type": "code",
   "execution_count": 1837,
   "metadata": {},
   "outputs": [],
   "source": [
    "# opening the SCR file\n",
    "\n",
    "with open(\"./SCR.sol\", \"r\") as file:\n",
    "    registrationFile = file.read()\n",
    "\n",
    "# Opening the SCA File\n",
    "    \n",
    "with open(\"./SCA.sol\", \"r\") as file:\n",
    "    AuctioneerFile = file.read()"
   ]
  },
  {
   "cell_type": "code",
   "execution_count": 1838,
   "metadata": {},
   "outputs": [],
   "source": [
    "#compiling smart contract of certifier\n",
    "install_solc(\"0.8.2\")\n",
    "compiled_sol = compile_standard(\n",
    "    {\n",
    "        \"language\": \"Solidity\",\n",
    "        \"sources\": {\"SCR.sol\": {\"content\": registrationFile}},\n",
    "        \"settings\": {\n",
    "            \"outputSelection\": {\n",
    "                \"*\": {\n",
    "                    \"*\": [\"abi\", \"metadata\", \"evm.bytecode\", \"evm.bytecode.sourceMap\"]\n",
    "                }\n",
    "            }\n",
    "        },\n",
    "    },\n",
    "    solc_version=\"0.8.2\",\n",
    ")\n",
    "\n",
    "with open(\"compiled_code.json\", \"w\") as file:\n",
    "    json.dump(compiled_sol, file)"
   ]
  },
  {
   "cell_type": "code",
   "execution_count": 1839,
   "metadata": {},
   "outputs": [
    {
     "data": {
      "text/plain": [
       "{'contracts': {'SCR.sol': {'Registration': {'abi': [{'inputs': [],\n",
       "      'name': 'retrieve',\n",
       "      'outputs': [{'internalType': 'uint256', 'name': '', 'type': 'uint256'}],\n",
       "      'stateMutability': 'view',\n",
       "      'type': 'function'},\n",
       "     {'inputs': [{'internalType': 'uint256',\n",
       "        'name': 'UID',\n",
       "        'type': 'uint256'}],\n",
       "      'name': 'store',\n",
       "      'outputs': [],\n",
       "      'stateMutability': 'nonpayable',\n",
       "      'type': 'function'}],\n",
       "    'evm': {'bytecode': {'generatedSources': [],\n",
       "      'linkReferences': {},\n",
       "      'object': '608060405234801561001057600080fd5b5061012f806100206000396000f3fe6080604052348015600f57600080fd5b506004361060325760003560e01c80632e64cec11460375780636057361d146051575b600080fd5b603d6069565b6040516048919060c2565b60405180910390f35b6067600480360381019060639190608f565b6072565b005b60008054905090565b8060008190555050565b60008135905060898160e5565b92915050565b60006020828403121560a057600080fd5b600060ac84828501607c565b91505092915050565b60bc8160db565b82525050565b600060208201905060d5600083018460b5565b92915050565b6000819050919050565b60ec8160db565b811460f657600080fd5b5056fea26469706673582212204dff651c59785606c199cbac2f63b5ef62e98e0b776fe57177cc3276924cc36764736f6c63430008020033',\n",
       "      'opcodes': 'PUSH1 0x80 PUSH1 0x40 MSTORE CALLVALUE DUP1 ISZERO PUSH2 0x10 JUMPI PUSH1 0x0 DUP1 REVERT JUMPDEST POP PUSH2 0x12F DUP1 PUSH2 0x20 PUSH1 0x0 CODECOPY PUSH1 0x0 RETURN INVALID PUSH1 0x80 PUSH1 0x40 MSTORE CALLVALUE DUP1 ISZERO PUSH1 0xF JUMPI PUSH1 0x0 DUP1 REVERT JUMPDEST POP PUSH1 0x4 CALLDATASIZE LT PUSH1 0x32 JUMPI PUSH1 0x0 CALLDATALOAD PUSH1 0xE0 SHR DUP1 PUSH4 0x2E64CEC1 EQ PUSH1 0x37 JUMPI DUP1 PUSH4 0x6057361D EQ PUSH1 0x51 JUMPI JUMPDEST PUSH1 0x0 DUP1 REVERT JUMPDEST PUSH1 0x3D PUSH1 0x69 JUMP JUMPDEST PUSH1 0x40 MLOAD PUSH1 0x48 SWAP2 SWAP1 PUSH1 0xC2 JUMP JUMPDEST PUSH1 0x40 MLOAD DUP1 SWAP2 SUB SWAP1 RETURN JUMPDEST PUSH1 0x67 PUSH1 0x4 DUP1 CALLDATASIZE SUB DUP2 ADD SWAP1 PUSH1 0x63 SWAP2 SWAP1 PUSH1 0x8F JUMP JUMPDEST PUSH1 0x72 JUMP JUMPDEST STOP JUMPDEST PUSH1 0x0 DUP1 SLOAD SWAP1 POP SWAP1 JUMP JUMPDEST DUP1 PUSH1 0x0 DUP2 SWAP1 SSTORE POP POP JUMP JUMPDEST PUSH1 0x0 DUP2 CALLDATALOAD SWAP1 POP PUSH1 0x89 DUP2 PUSH1 0xE5 JUMP JUMPDEST SWAP3 SWAP2 POP POP JUMP JUMPDEST PUSH1 0x0 PUSH1 0x20 DUP3 DUP5 SUB SLT ISZERO PUSH1 0xA0 JUMPI PUSH1 0x0 DUP1 REVERT JUMPDEST PUSH1 0x0 PUSH1 0xAC DUP5 DUP3 DUP6 ADD PUSH1 0x7C JUMP JUMPDEST SWAP2 POP POP SWAP3 SWAP2 POP POP JUMP JUMPDEST PUSH1 0xBC DUP2 PUSH1 0xDB JUMP JUMPDEST DUP3 MSTORE POP POP JUMP JUMPDEST PUSH1 0x0 PUSH1 0x20 DUP3 ADD SWAP1 POP PUSH1 0xD5 PUSH1 0x0 DUP4 ADD DUP5 PUSH1 0xB5 JUMP JUMPDEST SWAP3 SWAP2 POP POP JUMP JUMPDEST PUSH1 0x0 DUP2 SWAP1 POP SWAP2 SWAP1 POP JUMP JUMPDEST PUSH1 0xEC DUP2 PUSH1 0xDB JUMP JUMPDEST DUP2 EQ PUSH1 0xF6 JUMPI PUSH1 0x0 DUP1 REVERT JUMPDEST POP JUMP INVALID LOG2 PUSH5 0x6970667358 0x22 SLT KECCAK256 0x4D SELFDESTRUCT PUSH6 0x1C59785606C1 SWAP10 0xCB 0xAC 0x2F PUSH4 0xB5EF62E9 DUP15 SIGNEXTEND PUSH24 0x6FE57177CC3276924CC36764736F6C634300080200330000 ',\n",
       "      'sourceMap': '199:297:0:-:0;;;;;;;;;;;;;;;;;;;'}},\n",
       "    'metadata': '{\"compiler\":{\"version\":\"0.8.2+commit.661d1103\"},\"language\":\"Solidity\",\"output\":{\"abi\":[{\"inputs\":[],\"name\":\"retrieve\",\"outputs\":[{\"internalType\":\"uint256\",\"name\":\"\",\"type\":\"uint256\"}],\"stateMutability\":\"view\",\"type\":\"function\"},{\"inputs\":[{\"internalType\":\"uint256\",\"name\":\"UID\",\"type\":\"uint256\"}],\"name\":\"store\",\"outputs\":[],\"stateMutability\":\"nonpayable\",\"type\":\"function\"}],\"devdoc\":{\"custom:dev-run-script\":\"./scripts/deploy_with_ethers.ts\",\"details\":\"Store & retrieve value in a variable\",\"kind\":\"dev\",\"methods\":{},\"title\":\"Storage\",\"version\":1},\"userdoc\":{\"kind\":\"user\",\"methods\":{},\"version\":1}},\"settings\":{\"compilationTarget\":{\"SCR.sol\":\"Registration\"},\"evmVersion\":\"istanbul\",\"libraries\":{},\"metadata\":{\"bytecodeHash\":\"ipfs\"},\"optimizer\":{\"enabled\":false,\"runs\":200},\"remappings\":[]},\"sources\":{\"SCR.sol\":{\"keccak256\":\"0xd03987180a6b197f1c93efe072ee81a2f42d8c5f8726ce06cb1b6b7468413df0\",\"license\":\"GPL-3.0\",\"urls\":[\"bzz-raw://7f0f4cd471a92bffb556085f8c5eb63f3fcf22bf36518be2547d7aec45a45195\",\"dweb:/ipfs/QmQX5zRdbP2xq2HKYPH1A34iaWEpN9SQYx83bYuVM4LYEc\"]}},\"version\":1}'}}},\n",
       " 'sources': {'SCR.sol': {'id': 0}}}"
      ]
     },
     "execution_count": 1839,
     "metadata": {},
     "output_type": "execute_result"
    }
   ],
   "source": [
    "compiled_sol"
   ]
  },
  {
   "cell_type": "code",
   "execution_count": 1840,
   "metadata": {},
   "outputs": [],
   "source": [
    "# get bytecode\n",
    "bytecode = compiled_sol[\"contracts\"][\"SCR.sol\"][\"Registration\"][\"evm\"][\"bytecode\"][\"object\"]\n",
    "\n",
    "# get abi\n",
    "abi = json.loads(\n",
    "    compiled_sol[\"contracts\"][\"SCR.sol\"][\"Registration\"][\"metadata\"]\n",
    ")[\"output\"][\"abi\"]"
   ]
  },
  {
   "cell_type": "code",
   "execution_count": 1841,
   "metadata": {},
   "outputs": [
    {
     "data": {
      "text/plain": [
       "[{'inputs': [],\n",
       "  'name': 'retrieve',\n",
       "  'outputs': [{'internalType': 'uint256', 'name': '', 'type': 'uint256'}],\n",
       "  'stateMutability': 'view',\n",
       "  'type': 'function'},\n",
       " {'inputs': [{'internalType': 'uint256', 'name': 'UID', 'type': 'uint256'}],\n",
       "  'name': 'store',\n",
       "  'outputs': [],\n",
       "  'stateMutability': 'nonpayable',\n",
       "  'type': 'function'}]"
      ]
     },
     "execution_count": 1841,
     "metadata": {},
     "output_type": "execute_result"
    }
   ],
   "source": [
    "abi"
   ]
  },
  {
   "cell_type": "code",
   "execution_count": 1842,
   "metadata": {},
   "outputs": [],
   "source": [
    "# compiling SmartContract of auctioneer\n",
    "install_solc(\"0.8.2\")\n",
    "compiled_solA = compile_standard(\n",
    "    {\n",
    "        \"language\": \"Solidity\",\n",
    "        \"sources\": {\"SCA.sol\": {\"content\": AuctioneerFile}},\n",
    "        \"settings\": {\n",
    "            \"outputSelection\": {\n",
    "                \"*\": {\n",
    "                    \"*\": [\"abi\", \"metadata\", \"evm.bytecode\", \"evm.bytecode.sourceMap\"]\n",
    "                }\n",
    "            }\n",
    "        },\n",
    "    },\n",
    "    solc_version=\"0.8.2\",\n",
    ")\n",
    "\n",
    "with open(\"compiled_code.json\", \"w\") as file:\n",
    "    json.dump(compiled_solA, file)"
   ]
  },
  {
   "cell_type": "code",
   "execution_count": 1843,
   "metadata": {},
   "outputs": [
    {
     "data": {
      "text/plain": [
       "{'contracts': {'SCA.sol': {'Submission': {'abi': [{'inputs': [],\n",
       "      'name': 'AuctioneerRetrievesBidder2EncryptedData',\n",
       "      'outputs': [{'internalType': 'uint256', 'name': '', 'type': 'uint256'}],\n",
       "      'stateMutability': 'view',\n",
       "      'type': 'function'},\n",
       "     {'inputs': [],\n",
       "      'name': 'AuctioneerRetrivesBidder1EncryptedData',\n",
       "      'outputs': [{'internalType': 'uint256', 'name': '', 'type': 'uint256'}],\n",
       "      'stateMutability': 'view',\n",
       "      'type': 'function'},\n",
       "     {'inputs': [{'internalType': 'uint256',\n",
       "        'name': 'num',\n",
       "        'type': 'uint256'}],\n",
       "      'name': 'bidderEncryptedBidSubmission',\n",
       "      'outputs': [],\n",
       "      'stateMutability': 'nonpayable',\n",
       "      'type': 'function'}],\n",
       "    'evm': {'bytecode': {'generatedSources': [],\n",
       "      'linkReferences': {},\n",
       "      'object': '608060405234801561001057600080fd5b5061017a806100206000396000f3fe608060405234801561001057600080fd5b50600436106100415760003560e01c80630fbc3b8a14610046578063337b926714610062578063ee643f6814610080575b600080fd5b610060600480360381019061005b91906100d0565b61009e565b005b61006a6100a8565b6040516100779190610108565b60405180910390f35b6100886100b2565b6040516100959190610108565b60405180910390f35b8060008190555050565b6000600154905090565b60008054905090565b6000813590506100ca8161012d565b92915050565b6000602082840312156100e257600080fd5b60006100f0848285016100bb565b91505092915050565b61010281610123565b82525050565b600060208201905061011d60008301846100f9565b92915050565b6000819050919050565b61013681610123565b811461014157600080fd5b5056fea26469706673582212206f709291df91d51063a18db9d4db960a17a041067e2a1eddd55a3bef717d432a64736f6c63430008020033',\n",
       "      'opcodes': 'PUSH1 0x80 PUSH1 0x40 MSTORE CALLVALUE DUP1 ISZERO PUSH2 0x10 JUMPI PUSH1 0x0 DUP1 REVERT JUMPDEST POP PUSH2 0x17A DUP1 PUSH2 0x20 PUSH1 0x0 CODECOPY PUSH1 0x0 RETURN INVALID PUSH1 0x80 PUSH1 0x40 MSTORE CALLVALUE DUP1 ISZERO PUSH2 0x10 JUMPI PUSH1 0x0 DUP1 REVERT JUMPDEST POP PUSH1 0x4 CALLDATASIZE LT PUSH2 0x41 JUMPI PUSH1 0x0 CALLDATALOAD PUSH1 0xE0 SHR DUP1 PUSH4 0xFBC3B8A EQ PUSH2 0x46 JUMPI DUP1 PUSH4 0x337B9267 EQ PUSH2 0x62 JUMPI DUP1 PUSH4 0xEE643F68 EQ PUSH2 0x80 JUMPI JUMPDEST PUSH1 0x0 DUP1 REVERT JUMPDEST PUSH2 0x60 PUSH1 0x4 DUP1 CALLDATASIZE SUB DUP2 ADD SWAP1 PUSH2 0x5B SWAP2 SWAP1 PUSH2 0xD0 JUMP JUMPDEST PUSH2 0x9E JUMP JUMPDEST STOP JUMPDEST PUSH2 0x6A PUSH2 0xA8 JUMP JUMPDEST PUSH1 0x40 MLOAD PUSH2 0x77 SWAP2 SWAP1 PUSH2 0x108 JUMP JUMPDEST PUSH1 0x40 MLOAD DUP1 SWAP2 SUB SWAP1 RETURN JUMPDEST PUSH2 0x88 PUSH2 0xB2 JUMP JUMPDEST PUSH1 0x40 MLOAD PUSH2 0x95 SWAP2 SWAP1 PUSH2 0x108 JUMP JUMPDEST PUSH1 0x40 MLOAD DUP1 SWAP2 SUB SWAP1 RETURN JUMPDEST DUP1 PUSH1 0x0 DUP2 SWAP1 SSTORE POP POP JUMP JUMPDEST PUSH1 0x0 PUSH1 0x1 SLOAD SWAP1 POP SWAP1 JUMP JUMPDEST PUSH1 0x0 DUP1 SLOAD SWAP1 POP SWAP1 JUMP JUMPDEST PUSH1 0x0 DUP2 CALLDATALOAD SWAP1 POP PUSH2 0xCA DUP2 PUSH2 0x12D JUMP JUMPDEST SWAP3 SWAP2 POP POP JUMP JUMPDEST PUSH1 0x0 PUSH1 0x20 DUP3 DUP5 SUB SLT ISZERO PUSH2 0xE2 JUMPI PUSH1 0x0 DUP1 REVERT JUMPDEST PUSH1 0x0 PUSH2 0xF0 DUP5 DUP3 DUP6 ADD PUSH2 0xBB JUMP JUMPDEST SWAP2 POP POP SWAP3 SWAP2 POP POP JUMP JUMPDEST PUSH2 0x102 DUP2 PUSH2 0x123 JUMP JUMPDEST DUP3 MSTORE POP POP JUMP JUMPDEST PUSH1 0x0 PUSH1 0x20 DUP3 ADD SWAP1 POP PUSH2 0x11D PUSH1 0x0 DUP4 ADD DUP5 PUSH2 0xF9 JUMP JUMPDEST SWAP3 SWAP2 POP POP JUMP JUMPDEST PUSH1 0x0 DUP2 SWAP1 POP SWAP2 SWAP1 POP JUMP JUMPDEST PUSH2 0x136 DUP2 PUSH2 0x123 JUMP JUMPDEST DUP2 EQ PUSH2 0x141 JUMPI PUSH1 0x0 DUP1 REVERT JUMPDEST POP JUMP INVALID LOG2 PUSH5 0x6970667358 0x22 SLT KECCAK256 PUSH16 0x709291DF91D51063A18DB9D4DB960A17 LOG0 COINBASE MOD PUSH31 0x2A1EDDD55A3BEF717D432A64736F6C63430008020033000000000000000000 ',\n",
       "      'sourceMap': '71:974:0:-:0;;;;;;;;;;;;;;;;;;;'}},\n",
       "    'metadata': '{\"compiler\":{\"version\":\"0.8.2+commit.661d1103\"},\"language\":\"Solidity\",\"output\":{\"abi\":[{\"inputs\":[],\"name\":\"AuctioneerRetrievesBidder2EncryptedData\",\"outputs\":[{\"internalType\":\"uint256\",\"name\":\"\",\"type\":\"uint256\"}],\"stateMutability\":\"view\",\"type\":\"function\"},{\"inputs\":[],\"name\":\"AuctioneerRetrivesBidder1EncryptedData\",\"outputs\":[{\"internalType\":\"uint256\",\"name\":\"\",\"type\":\"uint256\"}],\"stateMutability\":\"view\",\"type\":\"function\"},{\"inputs\":[{\"internalType\":\"uint256\",\"name\":\"num\",\"type\":\"uint256\"}],\"name\":\"bidderEncryptedBidSubmission\",\"outputs\":[],\"stateMutability\":\"nonpayable\",\"type\":\"function\"}],\"devdoc\":{\"kind\":\"dev\",\"methods\":{},\"version\":1},\"userdoc\":{\"kind\":\"user\",\"methods\":{},\"version\":1}},\"settings\":{\"compilationTarget\":{\"SCA.sol\":\"Submission\"},\"evmVersion\":\"istanbul\",\"libraries\":{},\"metadata\":{\"bytecodeHash\":\"ipfs\"},\"optimizer\":{\"enabled\":false,\"runs\":200},\"remappings\":[]},\"sources\":{\"SCA.sol\":{\"keccak256\":\"0x36b22b5ed902446d83337f9eba58fb91bc66683399bdfb8446ed0f640ce9616a\",\"license\":\"GPL-3.0\",\"urls\":[\"bzz-raw://7035460134960ad096c5ec131a48be0660f1179765106571b21ed0bacc70a53d\",\"dweb:/ipfs/Qmct3Ds3fKfuKiTwkCSJ8UmCAieH7sxECAsB496RZ7jZGT\"]}},\"version\":1}'}}},\n",
       " 'sources': {'SCA.sol': {'id': 0}}}"
      ]
     },
     "execution_count": 1843,
     "metadata": {},
     "output_type": "execute_result"
    }
   ],
   "source": [
    "compiled_solA"
   ]
  },
  {
   "cell_type": "code",
   "execution_count": 1844,
   "metadata": {},
   "outputs": [],
   "source": [
    "# get bytecode\n",
    "bytecodeA = compiled_solA[\"contracts\"][\"SCA.sol\"][\"Submission\"][\"evm\"][\"bytecode\"][\"object\"]\n",
    "\n",
    "# get abi\n",
    "abiA = json.loads(\n",
    "    compiled_solA[\"contracts\"][\"SCA.sol\"][\"Submission\"][\"metadata\"]\n",
    ")[\"output\"][\"abi\"]"
   ]
  },
  {
   "cell_type": "code",
   "execution_count": 1845,
   "metadata": {},
   "outputs": [
    {
     "data": {
      "text/plain": [
       "[{'inputs': [],\n",
       "  'name': 'AuctioneerRetrievesBidder2EncryptedData',\n",
       "  'outputs': [{'internalType': 'uint256', 'name': '', 'type': 'uint256'}],\n",
       "  'stateMutability': 'view',\n",
       "  'type': 'function'},\n",
       " {'inputs': [],\n",
       "  'name': 'AuctioneerRetrivesBidder1EncryptedData',\n",
       "  'outputs': [{'internalType': 'uint256', 'name': '', 'type': 'uint256'}],\n",
       "  'stateMutability': 'view',\n",
       "  'type': 'function'},\n",
       " {'inputs': [{'internalType': 'uint256', 'name': 'num', 'type': 'uint256'}],\n",
       "  'name': 'bidderEncryptedBidSubmission',\n",
       "  'outputs': [],\n",
       "  'stateMutability': 'nonpayable',\n",
       "  'type': 'function'}]"
      ]
     },
     "execution_count": 1845,
     "metadata": {},
     "output_type": "execute_result"
    }
   ],
   "source": [
    "abiA"
   ]
  },
  {
   "cell_type": "code",
   "execution_count": 1846,
   "metadata": {},
   "outputs": [],
   "source": [
    "# set up connection for certifier\n",
    "w3 = Web3(Web3.HTTPProvider(\"HTTP://127.0.0.1:7545\"))\n",
    "chain_id = 1337\n",
    "my_address = \"0x19cfa72e6e0a5aF136111EAC2A96ed744b9b9627\"\n",
    "#private_key = os.getenv(\"PRIVATE_KEY\")\n",
    "private_key = \"0xd54a7c95acc41adb4c5538dfcf8f5b7304f10ce94eb35d29dec7f801a99a74cd\""
   ]
  },
  {
   "cell_type": "code",
   "execution_count": 1847,
   "metadata": {},
   "outputs": [],
   "source": [
    "# set up connection for auctioneer\n",
    "w3 = Web3(Web3.HTTPProvider(\"HTTP://127.0.0.1:7545\"))\n",
    "chain_id = 1337\n",
    "my_addressA = \"0x5CB5c633033371f642161Ee73147a4Bf4AD07493\"\n",
    "#private_key = os.getenv(\"PRIVATE_KEY\")\n",
    "private_keyA = \"0xfc5f8f7fca9db1d890858548ec026c96f189501d5a1b1ceeb92e74b7b4f38670\""
   ]
  },
  {
   "cell_type": "code",
   "execution_count": 1848,
   "metadata": {},
   "outputs": [],
   "source": [
    "def registrationPhaseFunctiontoInitializeSCR():\n",
    "    # initialize contract\n",
    "    Registration = w3.eth.contract(abi=abi, bytecode=bytecode)\n",
    "    nonce = w3.eth.get_transaction_count(my_address)\n",
    "    # set up transaction from constructor which executes when firstly we are trasacting the smart contract\n",
    "\n",
    "    transaction = Registration.constructor().build_transaction(\n",
    "        {\"chainId\": chain_id, \"from\": my_address, \"nonce\": nonce}\n",
    "    )\n",
    "    # Second requirement sign the transaction\n",
    "    signed_tx = w3.eth.account.sign_transaction(transaction, private_key=private_key)\n",
    "\n",
    "    # Third requirement is to get the transation hash value\n",
    "\n",
    "    tx_hash = w3.eth.send_raw_transaction(signed_tx.rawTransaction)\n",
    "\n",
    "    #  after geeting hash get the recipetpt of the transaction\n",
    "    tx_receipt = w3.eth.wait_for_transaction_receipt(tx_hash)\n",
    "\n",
    "    return [tx_receipt, nonce]"
   ]
  },
  {
   "cell_type": "code",
   "execution_count": 1849,
   "metadata": {},
   "outputs": [],
   "source": [
    "def registrationFunctionForSCRToStoreAndRetrieveUID (tx_receipt, nonce,UID):\n",
    "    # calling functions in contract block\n",
    "    # to work with a contract, you need abi and address\n",
    "    #  this line call the the contract by passing the abi and adress of the transactoin\n",
    "\n",
    "    registration_sol = w3.eth.contract(abi=abi, address=tx_receipt.contractAddress)\n",
    "\n",
    "    #  whenever we want to uipdate something we trsact that value so gas is used for that purpose we agin perfomr the transaction\n",
    "\n",
    "    call_fun = registration_sol.functions.store(UID).build_transaction(\n",
    "        {\"chainId\": chain_id, \"from\": my_address, \"nonce\": nonce + 1}\n",
    "    )\n",
    "    # again sign and same procedure\n",
    "\n",
    "    sign_call_fun = w3.eth.account.sign_transaction(call_fun, private_key=private_key)\n",
    "    tx_call_fun_hash = w3.eth.send_raw_transaction(sign_call_fun.rawTransaction)\n",
    "    tx_call_fun_receipt = w3.eth.wait_for_transaction_receipt(tx_call_fun_hash)\n",
    "\n",
    "    # just viewing something from your transaction doesnt cost anyting\n",
    "\n",
    "    print(registration_sol.functions.retrieve().call())\n",
    "    return registration_sol.functions.retrieve().call()\n"
   ]
  },
  {
   "cell_type": "code",
   "execution_count": 1850,
   "metadata": {},
   "outputs": [],
   "source": [
    "def bidSubmissionPhaseFunctiontoInitializeSCA():\n",
    "    # initialize contract\n",
    "    bidSubmission = w3.eth.contract(abi=abiA, bytecode=bytecodeA)\n",
    "    nonce = w3.eth.get_transaction_count(my_addressA)\n",
    "    # set up transaction from constructor which executes when firstly we are trasacting the smart contract\n",
    "\n",
    "    transaction =bidSubmission.constructor().build_transaction(\n",
    "        {\"chainId\": chain_id, \"from\": my_addressA, \"nonce\": nonce}\n",
    "    )\n",
    "    # Second requirement sign the transaction\n",
    "    signed_tx = w3.eth.account.sign_transaction(transaction, private_key=private_keyA)\n",
    "\n",
    "    # Third requirement is to get the transation hash value\n",
    "\n",
    "    tx_hash = w3.eth.send_raw_transaction(signed_tx.rawTransaction)\n",
    "\n",
    "    #  after geeting hash get the recipetpt of the transaction\n",
    "    tx_receipt = w3.eth.wait_for_transaction_receipt(tx_hash)\n",
    "\n",
    "    return [tx_receipt, nonce]"
   ]
  },
  {
   "cell_type": "code",
   "execution_count": 1851,
   "metadata": {},
   "outputs": [],
   "source": [
    "def bidSubmissionFunctionForSCAToStoreAndRetrievePB (tx_receipt, nonce,pb):\n",
    "    # calling functions in contract block\n",
    "    # to work with a contract, you need abi and address\n",
    "    #  this line call the the contract by passing the abi and adress of the transactoin\n",
    "\n",
    "    bid_submission_sol = w3.eth.contract(abi=abiA, address=tx_receipt.contractAddress)\n",
    "\n",
    "    #  whenever we want to uipdate something we trsact that value so gas is used for that purpose we agin perfomr the transaction\n",
    "\n",
    "    call_fun = bid_submission_sol.functions.bidderEncryptedBidSubmission(pb).build_transaction(\n",
    "        {\"chainId\": chain_id, \"from\": my_addressA, \"nonce\": nonce + 1}\n",
    "    )\n",
    "    # again sign and same procedure\n",
    "\n",
    "    sign_call_fun = w3.eth.account.sign_transaction(call_fun, private_key=private_keyA)\n",
    "    tx_call_fun_hash = w3.eth.send_raw_transaction(sign_call_fun.rawTransaction)\n",
    "    tx_call_fun_receipt = w3.eth.wait_for_transaction_receipt(tx_call_fun_hash)\n",
    "\n",
    "    # just viewing something from your transaction doesnt cost anyting\n",
    "\n",
    "    print(bid_submission_sol.functions.retrieve().call())\n",
    "    return bid_submission_sol.functions.retrieve().call()\n"
   ]
  },
  {
   "cell_type": "markdown",
   "metadata": {},
   "source": [
    "FROM this line the code for origiianl setup works\n"
   ]
  },
  {
   "cell_type": "markdown",
   "metadata": {},
   "source": [
    "this phase consist of the registration phase"
   ]
  },
  {
   "cell_type": "code",
   "execution_count": 1852,
   "metadata": {},
   "outputs": [],
   "source": [
    "def bidderAndAuctioneerRegistration():\n",
    "    global RSAprivateKeyAuc, RSApublicKeyAuc, privateKeyAuc,publicKeyAuc\n",
    "    publicKeyAuc, privateKeyAuc = paillier.generate_paillier_keypair(n_length= 64)\n",
    "    RSApublicKeyAuc, RSAprivateKeyAuc = rsa.newkeys(1048)\n",
    "    for i in range(len(listOfUID)):\n",
    "        #call the smart contract here for registration\n",
    "        values = registrationPhaseFunctiontoInitializeSCR()\n",
    "        UID = registrationFunctionForSCRToStoreAndRetrieveUID(values[0],values[1],i)\n",
    "        listofBID.append(hashlib.sha256(str(UID).encode('utf-8')).hexdigest())\n",
    "        x,y = paillier.generate_paillier_keypair(n_length=64)\n",
    "        dictionaryOfPublicKeys[listofBID[i]],dictionaryOfPrivateKeys[listofBID[i]]  = x ,y\n",
    "        (pubkey, privkey) = rsa.newkeys(1048)\n",
    "        dictOfRSAPubKey[i],dictOfRSAPriKey[i] = pubkey, privkey \n",
    "    \n",
    "\n",
    "        "
   ]
  },
  {
   "cell_type": "markdown",
   "metadata": {},
   "source": [
    "this phase consists of the bid submission phase"
   ]
  },
  {
   "cell_type": "code",
   "execution_count": 1853,
   "metadata": {},
   "outputs": [],
   "source": [
    "def generateTwoBiddersSTPCData(flag,bidderHighest):\n",
    "    #add bid higest of hihgest bidder later\n",
    "    bidder1 = 0\n",
    "    if flag == 0:\n",
    "        temp = rd.randint(0,len(listOfUID))\n",
    "        bidder1 = listofBID[temp]\n",
    "        b1rdbid = rd.randint(1,200)\n",
    "    else: \n",
    "        bidder1 = bidderHighest\n",
    "        b1rdbid = rd.randint(1,200)\n",
    "    bidder2 = choice([i for i in listofBID if i not in [bidderHighest]])\n",
    "    b1rdnum = rd.randint(1,2000) \n",
    "    b2rdnum = rd.randint(1,2000)\n",
    "    b2rdbid = rd.randint(1,200)\n",
    "    return bidder1,bidder2,b1rdnum,b1rdbid,b2rdnum,b2rdbid"
   ]
  },
  {
   "cell_type": "code",
   "execution_count": 1854,
   "metadata": {},
   "outputs": [],
   "source": [
    "def bidSubmission(flag,bidderHighest):\n",
    "    global k\n",
    "    bidder1,bidder2,b1rdnum,b1rdbid,b2rdnum,b2rdbid = generateTwoBiddersSTPCData(flag,bidderHighest)\n",
    "\n",
    "    # Generate the pb12 and send to smart contract\n",
    "    pb12 = rsa.encrypt(str((dictionaryOfPublicKeys[bidder2].raw_encrypt(b1rdbid + b1rdnum))).encode('utf8'), RSApublicKeyAuc)\n",
    "    # print(type(pb12))\n",
    "    # print(pb12)\n",
    "    k = Web3.to_int(pb12) \n",
    "    print(type(k))\n",
    "    values = bidSubmissionPhaseFunctiontoInitializeSCA()\n",
    "    pb12 = bidSubmissionFunctionForSCAToStoreAndRetrievePB(values[0],values[1],k)\n",
    "    \n",
    "\n",
    "    # Generate the pb21 and send to smart contract\n",
    "    pb21 = rsa.encrypt(str((dictionaryOfPublicKeys[bidder1].raw_encrypt(b2rdnum+ b2rdbid))).encode(\"utf8\"), RSApublicKeyAuc)\n",
    "    pb21 = Web3.to_hex()\n",
    "    values = bidSubmissionPhaseFunctiontoInitializeSCA()\n",
    "    pb21 = bidSubmissionFunctionForSCAToStoreAndRetrievePB(values[0],values[1],pb21)\n",
    "    \n",
    "    #call smartcontract SCA frrom here to submit these values to the auctioneer\n",
    "    pb12 = int(rsa.decrypt(pb12,RSAprivateKeyAuc).decode('utf8'))\n",
    "    pb21 = int(rsa.decrypt(pb21,RSAprivateKeyAuc).decode('utf8'))\n",
    "    #auctioneer adds its random number fraction here\n",
    "    m1 = rd.randint(1,10000)\n",
    "    m2 = rd.randint(1,10000)\n",
    "    pb12 = np.dot(pb12, dictionaryOfPublicKeys[bidder2].raw_encrypt(m1+m2))\n",
    "    pb21 = np.dot(pb21, dictionaryOfPublicKeys[bidder1].raw_encrypt(m1+m2))\n",
    "    # auctioneer forwards this info to b1 and b2 and they both add their random numbers\n",
    "    #data need to be submited here to smart contract\n",
    "    pb21 = dictionaryOfPrivateKeys[bidder1].raw_decrypt(pb21)\n",
    "    pb12 = dictionaryOfPrivateKeys[bidder2].raw_decrypt(pb12)\n",
    "    return [pb12,pb21,bidder1,bidder2]"
   ]
  },
  {
   "cell_type": "markdown",
   "metadata": {},
   "source": [
    "THIS ENDS THE BID SUBSMISSION AND BID COMPARISON STARTS FROM HERE\n"
   ]
  },
  {
   "cell_type": "code",
   "execution_count": 1855,
   "metadata": {},
   "outputs": [],
   "source": [
    "#add bids comarison pairs in parmeters\n",
    "def bidComparison(pb12,pb21,bidder1,bidder2):\n",
    "    if pb12 < pb21:\n",
    "        return bidder2\n",
    "    elif pb12 > pb21:\n",
    "        return bidder1\n",
    "    else:\n",
    "        #0 means a tie\n",
    "        return 0"
   ]
  },
  {
   "cell_type": "markdown",
   "metadata": {},
   "source": [
    "this part of the code simulates the envioronment where bidders want to raise the bid"
   ]
  },
  {
   "cell_type": "code",
   "execution_count": 1856,
   "metadata": {},
   "outputs": [],
   "source": [
    "# SCA smart cotract reopens here\n",
    "def bidRaise():\n",
    "    global bidderHighest\n",
    "    x = bidSubmission(1,bidderHighest)\n",
    "    bidderHighest = bidComparison(x[0],x[1],x[2],x[3])\n",
    "    print(bidderHighest)"
   ]
  },
  {
   "cell_type": "code",
   "execution_count": 1857,
   "metadata": {},
   "outputs": [],
   "source": [
    "# intitializing the first bid value for two random bidders\n",
    "def firstBidding():\n",
    "    global bidderHighest\n",
    "    x = bidSubmission(0,0)\n",
    "    bidderHighest = bidComparison(x[0],x[1],x[2],x[3])\n",
    "    print(bidderHighest)"
   ]
  },
  {
   "cell_type": "code",
   "execution_count": 1858,
   "metadata": {},
   "outputs": [
    {
     "name": "stdout",
     "output_type": "stream",
     "text": [
      "0\n",
      "1\n"
     ]
    }
   ],
   "source": [
    "bidderAndAuctioneerRegistration()"
   ]
  },
  {
   "cell_type": "code",
   "execution_count": 1859,
   "metadata": {},
   "outputs": [
    {
     "name": "stdout",
     "output_type": "stream",
     "text": [
      "<class 'int'>\n"
     ]
    },
    {
     "ename": "Web3ValidationError",
     "evalue": "\nCould not identify the intended function with name `bidderEncryptedBidSubmission`, positional arguments with type(s) `int` and keyword arguments with type(s) `{}`.\nFound 1 function(s) with the name `bidderEncryptedBidSubmission`: ['bidderEncryptedBidSubmission(uint256)']\nFunction invocation failed due to no matching argument types.",
     "output_type": "error",
     "traceback": [
      "\u001b[0;31m---------------------------------------------------------------------------\u001b[0m",
      "\u001b[0;31mWeb3ValidationError\u001b[0m                       Traceback (most recent call last)",
      "Cell \u001b[0;32mIn[1859], line 1\u001b[0m\n\u001b[0;32m----> 1\u001b[0m \u001b[43mfirstBidding\u001b[49m\u001b[43m(\u001b[49m\u001b[43m)\u001b[49m\n\u001b[1;32m      2\u001b[0m bidRaise()\n\u001b[1;32m      3\u001b[0m \u001b[38;5;66;03m# bidRaise()\u001b[39;00m\n\u001b[1;32m      4\u001b[0m \u001b[38;5;66;03m# bidRaise()\u001b[39;00m\n\u001b[1;32m      5\u001b[0m \u001b[38;5;66;03m# bidRaise()\u001b[39;00m\n",
      "Cell \u001b[0;32mIn[1857], line 4\u001b[0m, in \u001b[0;36mfirstBidding\u001b[0;34m()\u001b[0m\n\u001b[1;32m      2\u001b[0m \u001b[38;5;28;01mdef\u001b[39;00m \u001b[38;5;21mfirstBidding\u001b[39m():\n\u001b[1;32m      3\u001b[0m     \u001b[38;5;28;01mglobal\u001b[39;00m bidderHighest\n\u001b[0;32m----> 4\u001b[0m     x \u001b[38;5;241m=\u001b[39m \u001b[43mbidSubmission\u001b[49m\u001b[43m(\u001b[49m\u001b[38;5;241;43m0\u001b[39;49m\u001b[43m,\u001b[49m\u001b[38;5;241;43m0\u001b[39;49m\u001b[43m)\u001b[49m\n\u001b[1;32m      5\u001b[0m     bidderHighest \u001b[38;5;241m=\u001b[39m bidComparison(x[\u001b[38;5;241m0\u001b[39m],x[\u001b[38;5;241m1\u001b[39m],x[\u001b[38;5;241m2\u001b[39m],x[\u001b[38;5;241m3\u001b[39m])\n\u001b[1;32m      6\u001b[0m     \u001b[38;5;28mprint\u001b[39m(bidderHighest)\n",
      "Cell \u001b[0;32mIn[1854], line 12\u001b[0m, in \u001b[0;36mbidSubmission\u001b[0;34m(flag, bidderHighest)\u001b[0m\n\u001b[1;32m     10\u001b[0m \u001b[38;5;28mprint\u001b[39m(\u001b[38;5;28mtype\u001b[39m(k))\n\u001b[1;32m     11\u001b[0m values \u001b[38;5;241m=\u001b[39m bidSubmissionPhaseFunctiontoInitializeSCA()\n\u001b[0;32m---> 12\u001b[0m pb12 \u001b[38;5;241m=\u001b[39m \u001b[43mbidSubmissionFunctionForSCAToStoreAndRetrievePB\u001b[49m\u001b[43m(\u001b[49m\u001b[43mvalues\u001b[49m\u001b[43m[\u001b[49m\u001b[38;5;241;43m0\u001b[39;49m\u001b[43m]\u001b[49m\u001b[43m,\u001b[49m\u001b[43mvalues\u001b[49m\u001b[43m[\u001b[49m\u001b[38;5;241;43m1\u001b[39;49m\u001b[43m]\u001b[49m\u001b[43m,\u001b[49m\u001b[43mk\u001b[49m\u001b[43m)\u001b[49m\n\u001b[1;32m     15\u001b[0m \u001b[38;5;66;03m# Generate the pb21 and send to smart contract\u001b[39;00m\n\u001b[1;32m     16\u001b[0m pb21 \u001b[38;5;241m=\u001b[39m rsa\u001b[38;5;241m.\u001b[39mencrypt(\u001b[38;5;28mstr\u001b[39m((dictionaryOfPublicKeys[bidder1]\u001b[38;5;241m.\u001b[39mraw_encrypt(b2rdnum\u001b[38;5;241m+\u001b[39m b2rdbid)))\u001b[38;5;241m.\u001b[39mencode(\u001b[38;5;124m\"\u001b[39m\u001b[38;5;124mutf8\u001b[39m\u001b[38;5;124m\"\u001b[39m), RSApublicKeyAuc)\n",
      "Cell \u001b[0;32mIn[1851], line 10\u001b[0m, in \u001b[0;36mbidSubmissionFunctionForSCAToStoreAndRetrievePB\u001b[0;34m(tx_receipt, nonce, pb)\u001b[0m\n\u001b[1;32m      6\u001b[0m bid_submission_sol \u001b[38;5;241m=\u001b[39m w3\u001b[38;5;241m.\u001b[39meth\u001b[38;5;241m.\u001b[39mcontract(abi\u001b[38;5;241m=\u001b[39mabiA, address\u001b[38;5;241m=\u001b[39mtx_receipt\u001b[38;5;241m.\u001b[39mcontractAddress)\n\u001b[1;32m      8\u001b[0m \u001b[38;5;66;03m#  whenever we want to uipdate something we trsact that value so gas is used for that purpose we agin perfomr the transaction\u001b[39;00m\n\u001b[0;32m---> 10\u001b[0m call_fun \u001b[38;5;241m=\u001b[39m \u001b[43mbid_submission_sol\u001b[49m\u001b[38;5;241;43m.\u001b[39;49m\u001b[43mfunctions\u001b[49m\u001b[38;5;241;43m.\u001b[39;49m\u001b[43mbidderEncryptedBidSubmission\u001b[49m\u001b[43m(\u001b[49m\u001b[43mpb\u001b[49m\u001b[43m)\u001b[49m\u001b[38;5;241m.\u001b[39mbuild_transaction(\n\u001b[1;32m     11\u001b[0m     {\u001b[38;5;124m\"\u001b[39m\u001b[38;5;124mchainId\u001b[39m\u001b[38;5;124m\"\u001b[39m: chain_id, \u001b[38;5;124m\"\u001b[39m\u001b[38;5;124mfrom\u001b[39m\u001b[38;5;124m\"\u001b[39m: my_addressA, \u001b[38;5;124m\"\u001b[39m\u001b[38;5;124mnonce\u001b[39m\u001b[38;5;124m\"\u001b[39m: nonce \u001b[38;5;241m+\u001b[39m \u001b[38;5;241m1\u001b[39m}\n\u001b[1;32m     12\u001b[0m )\n\u001b[1;32m     13\u001b[0m \u001b[38;5;66;03m# again sign and same procedure\u001b[39;00m\n\u001b[1;32m     15\u001b[0m sign_call_fun \u001b[38;5;241m=\u001b[39m w3\u001b[38;5;241m.\u001b[39meth\u001b[38;5;241m.\u001b[39maccount\u001b[38;5;241m.\u001b[39msign_transaction(call_fun, private_key\u001b[38;5;241m=\u001b[39mprivate_keyA)\n",
      "File \u001b[0;32m~/.local/lib/python3.10/site-packages/web3/contract/contract.py:260\u001b[0m, in \u001b[0;36mContractFunction.__call__\u001b[0;34m(self, *args, **kwargs)\u001b[0m\n\u001b[1;32m    258\u001b[0m \u001b[38;5;28;01melse\u001b[39;00m:\n\u001b[1;32m    259\u001b[0m     clone\u001b[38;5;241m.\u001b[39mkwargs \u001b[38;5;241m=\u001b[39m kwargs\n\u001b[0;32m--> 260\u001b[0m \u001b[43mclone\u001b[49m\u001b[38;5;241;43m.\u001b[39;49m\u001b[43m_set_function_info\u001b[49m\u001b[43m(\u001b[49m\u001b[43m)\u001b[49m\n\u001b[1;32m    261\u001b[0m \u001b[38;5;28;01mreturn\u001b[39;00m clone\n",
      "File \u001b[0;32m~/.local/lib/python3.10/site-packages/web3/contract/base_contract.py:473\u001b[0m, in \u001b[0;36mBaseContractFunction._set_function_info\u001b[0;34m(self)\u001b[0m\n\u001b[1;32m    471\u001b[0m \u001b[38;5;28;01mdef\u001b[39;00m \u001b[38;5;21m_set_function_info\u001b[39m(\u001b[38;5;28mself\u001b[39m) \u001b[38;5;241m-\u001b[39m\u001b[38;5;241m>\u001b[39m \u001b[38;5;28;01mNone\u001b[39;00m:\n\u001b[1;32m    472\u001b[0m     \u001b[38;5;28;01mif\u001b[39;00m \u001b[38;5;129;01mnot\u001b[39;00m \u001b[38;5;28mself\u001b[39m\u001b[38;5;241m.\u001b[39mabi:\n\u001b[0;32m--> 473\u001b[0m         \u001b[38;5;28mself\u001b[39m\u001b[38;5;241m.\u001b[39mabi \u001b[38;5;241m=\u001b[39m \u001b[43mfind_matching_fn_abi\u001b[49m\u001b[43m(\u001b[49m\n\u001b[1;32m    474\u001b[0m \u001b[43m            \u001b[49m\u001b[38;5;28;43mself\u001b[39;49m\u001b[38;5;241;43m.\u001b[39;49m\u001b[43mcontract_abi\u001b[49m\u001b[43m,\u001b[49m\n\u001b[1;32m    475\u001b[0m \u001b[43m            \u001b[49m\u001b[38;5;28;43mself\u001b[39;49m\u001b[38;5;241;43m.\u001b[39;49m\u001b[43mw3\u001b[49m\u001b[38;5;241;43m.\u001b[39;49m\u001b[43mcodec\u001b[49m\u001b[43m,\u001b[49m\n\u001b[1;32m    476\u001b[0m \u001b[43m            \u001b[49m\u001b[38;5;28;43mself\u001b[39;49m\u001b[38;5;241;43m.\u001b[39;49m\u001b[43mfunction_identifier\u001b[49m\u001b[43m,\u001b[49m\n\u001b[1;32m    477\u001b[0m \u001b[43m            \u001b[49m\u001b[38;5;28;43mself\u001b[39;49m\u001b[38;5;241;43m.\u001b[39;49m\u001b[43margs\u001b[49m\u001b[43m,\u001b[49m\n\u001b[1;32m    478\u001b[0m \u001b[43m            \u001b[49m\u001b[38;5;28;43mself\u001b[39;49m\u001b[38;5;241;43m.\u001b[39;49m\u001b[43mkwargs\u001b[49m\u001b[43m,\u001b[49m\n\u001b[1;32m    479\u001b[0m \u001b[43m        \u001b[49m\u001b[43m)\u001b[49m\n\u001b[1;32m    480\u001b[0m     \u001b[38;5;28;01mif\u001b[39;00m \u001b[38;5;28mself\u001b[39m\u001b[38;5;241m.\u001b[39mfunction_identifier \u001b[38;5;129;01min\u001b[39;00m [FallbackFn, ReceiveFn]:\n\u001b[1;32m    481\u001b[0m         \u001b[38;5;28mself\u001b[39m\u001b[38;5;241m.\u001b[39mselector \u001b[38;5;241m=\u001b[39m encode_hex(\u001b[38;5;124mb\u001b[39m\u001b[38;5;124m\"\u001b[39m\u001b[38;5;124m\"\u001b[39m)\n",
      "File \u001b[0;32m~/.local/lib/python3.10/site-packages/web3/_utils/contracts.py:208\u001b[0m, in \u001b[0;36mfind_matching_fn_abi\u001b[0;34m(abi, abi_codec, fn_identifier, args, kwargs)\u001b[0m\n\u001b[1;32m    197\u001b[0m collapsed_kwargs \u001b[38;5;241m=\u001b[39m \u001b[38;5;28mdict\u001b[39m(\n\u001b[1;32m    198\u001b[0m     {(k, extract_argument_types([v])) \u001b[38;5;28;01mfor\u001b[39;00m k, v \u001b[38;5;129;01min\u001b[39;00m kwargs\u001b[38;5;241m.\u001b[39mitems()}\n\u001b[1;32m    199\u001b[0m )\n\u001b[1;32m    200\u001b[0m message \u001b[38;5;241m=\u001b[39m (\n\u001b[1;32m    201\u001b[0m     \u001b[38;5;124mf\u001b[39m\u001b[38;5;124m\"\u001b[39m\u001b[38;5;130;01m\\n\u001b[39;00m\u001b[38;5;124mCould not identify the intended function with name `\u001b[39m\u001b[38;5;132;01m{\u001b[39;00mfn_identifier\u001b[38;5;132;01m}\u001b[39;00m\u001b[38;5;124m`, \u001b[39m\u001b[38;5;124m\"\u001b[39m\n\u001b[1;32m    202\u001b[0m     \u001b[38;5;124mf\u001b[39m\u001b[38;5;124m\"\u001b[39m\u001b[38;5;124mpositional arguments with type(s) `\u001b[39m\u001b[38;5;132;01m{\u001b[39;00mcollapsed_args\u001b[38;5;132;01m}\u001b[39;00m\u001b[38;5;124m` and \u001b[39m\u001b[38;5;124m\"\u001b[39m\n\u001b[0;32m   (...)\u001b[0m\n\u001b[1;32m    205\u001b[0m     \u001b[38;5;124mf\u001b[39m\u001b[38;5;124m\"\u001b[39m\u001b[38;5;124mthe name `\u001b[39m\u001b[38;5;132;01m{\u001b[39;00mfn_identifier\u001b[38;5;132;01m}\u001b[39;00m\u001b[38;5;124m`: \u001b[39m\u001b[38;5;132;01m{\u001b[39;00mmatching_function_signatures\u001b[38;5;132;01m}\u001b[39;00m\u001b[38;5;132;01m{\u001b[39;00mdiagnosis\u001b[38;5;132;01m}\u001b[39;00m\u001b[38;5;124m\"\u001b[39m\n\u001b[1;32m    206\u001b[0m )\n\u001b[0;32m--> 208\u001b[0m \u001b[38;5;28;01mraise\u001b[39;00m Web3ValidationError(message)\n",
      "\u001b[0;31mWeb3ValidationError\u001b[0m: \nCould not identify the intended function with name `bidderEncryptedBidSubmission`, positional arguments with type(s) `int` and keyword arguments with type(s) `{}`.\nFound 1 function(s) with the name `bidderEncryptedBidSubmission`: ['bidderEncryptedBidSubmission(uint256)']\nFunction invocation failed due to no matching argument types."
     ]
    }
   ],
   "source": [
    "\n",
    "firstBidding()\n",
    "bidRaise()\n",
    "# bidRaise()\n",
    "# bidRaise()\n",
    "# bidRaise()"
   ]
  },
  {
   "cell_type": "code",
   "execution_count": null,
   "metadata": {},
   "outputs": [
    {
     "data": {
      "text/plain": [
       "56"
      ]
     },
     "execution_count": 1599,
     "metadata": {},
     "output_type": "execute_result"
    }
   ],
   "source": [
    "k\n"
   ]
  },
  {
   "cell_type": "code",
   "execution_count": null,
   "metadata": {},
   "outputs": [],
   "source": [
    "k = Web3.to_int(k)"
   ]
  },
  {
   "cell_type": "code",
   "execution_count": null,
   "metadata": {},
   "outputs": [
    {
     "data": {
      "text/plain": [
       "int"
      ]
     },
     "execution_count": 1601,
     "metadata": {},
     "output_type": "execute_result"
    }
   ],
   "source": [
    "type(k)"
   ]
  },
  {
   "cell_type": "code",
   "execution_count": null,
   "metadata": {},
   "outputs": [],
   "source": [
    "m = Web3.to_bytes(k)"
   ]
  },
  {
   "cell_type": "code",
   "execution_count": null,
   "metadata": {},
   "outputs": [
    {
     "data": {
      "text/plain": [
       "b'8'"
      ]
     },
     "execution_count": 1603,
     "metadata": {},
     "output_type": "execute_result"
    }
   ],
   "source": [
    "m"
   ]
  }
 ],
 "metadata": {
  "kernelspec": {
   "display_name": "Python 3",
   "language": "python",
   "name": "python3"
  },
  "language_info": {
   "codemirror_mode": {
    "name": "ipython",
    "version": 3
   },
   "file_extension": ".py",
   "mimetype": "text/x-python",
   "name": "python",
   "nbconvert_exporter": "python",
   "pygments_lexer": "ipython3",
   "version": "3.10.12"
  }
 },
 "nbformat": 4,
 "nbformat_minor": 2
}
