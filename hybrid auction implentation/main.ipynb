{
 "cells": [
  {
   "cell_type": "code",
   "execution_count": 158,
   "metadata": {},
   "outputs": [],
   "source": [
    "# from eth_utils import address\n",
    "# from web3 import Web3\n",
    "# import os\n",
    "# import solcx\n",
    "# from solcx import compile_standard, install_solc\n",
    "# from dotenv import load_dotenv\n",
    "import json\n",
    "import numpy as np\n",
    "import random as rd\n",
    "import hashlib \n",
    "from phe import paillier\n",
    "import random as rd\n",
    "from timeit import default_timer as timer\n",
    "import matplotlib.pyplot as plt\n",
    "import rsa\n",
    "from random import choice\n"
   ]
  },
  {
   "cell_type": "code",
   "execution_count": 159,
   "metadata": {},
   "outputs": [],
   "source": [
    "listOfUID = [1,2,3,4]\n",
    "listofBID = []\n",
    "dictionaryOfPublicKeys = {}\n",
    "dictionaryOfPrivateKeys = {}\n",
    "dictOfRSAPubKey,dictOfRSAPriKey = {},{}\n",
    "publicKeyAuc, privateKeyAuc,RSApublicKeyAuc, RSAprivateKeyAuc = 0,0,0,0"
   ]
  },
  {
   "cell_type": "code",
   "execution_count": 160,
   "metadata": {},
   "outputs": [],
   "source": [
    "# with open(\"./Storage.sol\", \"r\") as file:\n",
    "#     simple_storage_file = file.read()"
   ]
  },
  {
   "cell_type": "code",
   "execution_count": 161,
   "metadata": {},
   "outputs": [],
   "source": [
    "# install_solc(\"0.8.2\")\n",
    "# compiled_sol = compile_standard(\n",
    "#     {\n",
    "#         \"language\": \"Solidity\",\n",
    "#         \"sources\": {\"Storage.sol\": {\"content\": simple_storage_file}},\n",
    "#         \"settings\": {\n",
    "#             \"outputSelection\": {\n",
    "#                 \"*\": {\n",
    "#                     \"*\": [\"abi\", \"metadata\", \"evm.bytecode\", \"evm.bytecode.sourceMap\"]\n",
    "#                 }\n",
    "#             }\n",
    "#         },\n",
    "#     },\n",
    "#     solc_version=\"0.8.2\",\n",
    "# )\n",
    "\n",
    "# with open(\"compiled_code.json\", \"w\") as file:\n",
    "#     json.dump(compiled_sol, file)"
   ]
  },
  {
   "cell_type": "code",
   "execution_count": 162,
   "metadata": {},
   "outputs": [],
   "source": [
    "# # get bytecode\n",
    "# bytecode = compiled_sol[\"contracts\"][\"Storage.sol\"][\"Storage\"][\"evm\"][\n",
    "#     \"bytecode\"\n",
    "# ][\"object\"]"
   ]
  },
  {
   "cell_type": "code",
   "execution_count": 163,
   "metadata": {},
   "outputs": [],
   "source": [
    "# # get abi\n",
    "# abi = json.loads(\n",
    "#     compiled_sol[\"contracts\"][\"Storage.sol\"][\"Storage\"][\"metadata\"]\n",
    "# )[\"output\"][\"abi\"]"
   ]
  },
  {
   "cell_type": "code",
   "execution_count": 164,
   "metadata": {},
   "outputs": [],
   "source": [
    "# # set up connection\n",
    "# w3 = Web3(Web3.HTTPProvider(\"HTTP://127.0.0.1:7545\"))\n",
    "# chain_id = 1337\n",
    "# my_address = \"0x19cfa72e6e0a5aF136111EAC2A96ed744b9b9627\"\n",
    "# #private_key = os.getenv(\"PRIVATE_KEY\")\n",
    "# private_key = \"0xd54a7c95acc41adb4c5538dfcf8f5b7304f10ce94eb35d29dec7f801a99a74cd\""
   ]
  },
  {
   "cell_type": "code",
   "execution_count": 165,
   "metadata": {},
   "outputs": [],
   "source": [
    "# # initialize contract\n",
    "# Storage = w3.eth.contract(abi=abi, bytecode=bytecode)\n",
    "# nonce = w3.eth.get_transaction_count(my_address)\n",
    "# # set up transaction from constructor which executes when firstly\n",
    "# transaction = Storage.constructor().build_transaction(\n",
    "#     {\"chainId\": chain_id, \"from\": my_address, \"nonce\": nonce}\n",
    "# )\n",
    "# signed_tx = w3.eth.account.sign_transaction(transaction, private_key=private_key)\n",
    "# tx_hash = w3.eth.send_raw_transaction(signed_tx.rawTransaction)\n",
    "# tx_receipt = w3.eth.wait_for_transaction_receipt(tx_hash)"
   ]
  },
  {
   "cell_type": "code",
   "execution_count": 166,
   "metadata": {},
   "outputs": [],
   "source": [
    "# # calling functions in contract block\n",
    "# # to work with a contract, you need abi and address\n",
    "\n",
    "# storage_sol = w3.eth.contract(abi=abi, address=tx_receipt.contractAddress)\n",
    "# call_fun = storage_sol.functions.store2(42).build_transaction(\n",
    "#     {\"chainId\": chain_id, \"from\": my_address, \"nonce\": nonce + 1}\n",
    "# )\n",
    "# sign_call_fun = w3.eth.account.sign_transaction(call_fun, private_key=private_key)\n",
    "# tx_call_fun_hash = w3.eth.send_raw_transaction(sign_call_fun.rawTransaction)\n",
    "# tx_call_fun_receipt = w3.eth.wait_for_transaction_receipt(tx_call_fun_hash)\n",
    "# # print(storage_sol.functions.store(45).transact())\n",
    "# print(storage_sol.functions.retrieve().call())\n",
    " "
   ]
  },
  {
   "cell_type": "markdown",
   "metadata": {},
   "source": [
    "FROM this line the code for origiianl setup works\n"
   ]
  },
  {
   "cell_type": "markdown",
   "metadata": {},
   "source": [
    "this phase consist of the registration phase"
   ]
  },
  {
   "cell_type": "code",
   "execution_count": 167,
   "metadata": {},
   "outputs": [],
   "source": [
    "def bidderAndAuctioneerRegistration():\n",
    "    global RSAprivateKeyAuc, RSApublicKeyAuc, privateKeyAuc,publicKeyAuc\n",
    "    for i in range(len(listOfUID)):\n",
    "        publicKeyAuc, privateKeyAuc = paillier.generate_paillier_keypair(n_length= 64)\n",
    "        RSApublicKeyAuc, RSAprivateKeyAuc = rsa.newkeys(1048)\n",
    "        listofBID.append(hashlib.sha256(str(listOfUID[i]).encode('utf-8')).hexdigest())\n",
    "        x,y = paillier.generate_paillier_keypair(n_length=64)\n",
    "        dictionaryOfPublicKeys[listofBID[i]],dictionaryOfPrivateKeys[listofBID[i]]  = x ,y\n",
    "        (pubkey, privkey) = rsa.newkeys(1048)\n",
    "        dictOfRSAPubKey[i],dictOfRSAPriKey[i] = pubkey, privkey \n",
    "    \n",
    "\n",
    "        "
   ]
  },
  {
   "cell_type": "code",
   "execution_count": 168,
   "metadata": {},
   "outputs": [],
   "source": [
    "bidderAndAuctioneerRegistration()"
   ]
  },
  {
   "cell_type": "markdown",
   "metadata": {},
   "source": [
    "this phase consists of the bid submission phase"
   ]
  },
  {
   "cell_type": "code",
   "execution_count": 169,
   "metadata": {},
   "outputs": [],
   "source": [
    "def generateTwoBiddersSTPCData(flag,bidderHighest,bid):\n",
    "    bidder1 = 0\n",
    "    if flag == 0:\n",
    "        temp = rd.randint(0,len(listOfUID))\n",
    "        bidder1 = listofBID[temp]\n",
    "        b1rdbid = rd.randint(1,20)\n",
    "    else: \n",
    "        bidder1 = bidderHighest\n",
    "        b1rdbid = bid\n",
    "    temp = choice([i for i in range(0,len(listOfUID)) if i not in [temp]])\n",
    "    bidder2 = listofBID[temp]\n",
    "    b1rdnum = rd.randint(1,2000) \n",
    "    b2rdnum = rd.randint(1,2000)\n",
    "    b2rdbid = rd.randint(1,20)\n",
    "    return bidder1,bidder2,b1rdnum,b1rdbid,b2rdnum,b2rdbid"
   ]
  },
  {
   "cell_type": "code",
   "execution_count": 170,
   "metadata": {},
   "outputs": [],
   "source": [
    "def bidSubmission(flag,bidderHighest,bid):\n",
    "    bidder1,bidder2,b1rdnum,b1rdbid,b2rdnum,b2rdbid = generateTwoBiddersSTPCData(flag,bidderHighest,bid)\n",
    "    pb12 = rsa.encrypt(str((dictionaryOfPublicKeys[bidder2].raw_encrypt(b1rdbid + b1rdnum))).encode('utf8'), RSApublicKeyAuc)\n",
    "    pb21 = rsa.encrypt(str((dictionaryOfPublicKeys[bidder1].raw_encrypt(b2rdnum+ b2rdbid))).encode(\"utf8\"), RSApublicKeyAuc)\n",
    "    #call smartcontract SCA frrom here to submit these values to the auctioneer\n",
    "    pb12 = int(rsa.decrypt(pb12,RSAprivateKeyAuc).decode('utf8'))\n",
    "    pb21 = int(rsa.decrypt(pb21,RSAprivateKeyAuc).decode('utf8'))\n",
    "    #auctioneer adds its random number fraction here\n",
    "    m1 = rd.randint(1,10000)\n",
    "    m2 = rd.randint(1,10000)\n",
    "    pb12 = np.dot(pb12, dictionaryOfPublicKeys[bidder2].raw_encrypt(m1))\n",
    "    pb21 = np.dot(pb21, dictionaryOfPublicKeys[bidder1].raw_encrypt(m1))\n",
    "    # auctioneer forwards this info to b1 and b2 and they both add their random numbers\n",
    "    pb21 = dictionaryOfPrivateKeys[bidder1].raw_decrypt(pb21)\n",
    "    pb12 = dictionaryOfPrivateKeys[bidder2].raw_decrypt(pb12)\n",
    "    return [pb12,pb21,bidder1,bidder2]"
   ]
  },
  {
   "cell_type": "markdown",
   "metadata": {},
   "source": [
    "THIS ENDS THE BID SUBSMISSION AND BID COMPARISON STARTS FROM HERE\n"
   ]
  },
  {
   "cell_type": "code",
   "execution_count": 171,
   "metadata": {},
   "outputs": [],
   "source": [
    "#add bids comarison pairs in parmeters\n",
    "def bidComparison(pb12,pb21,bidder1,bidder2):\n",
    "    if pb12 < pb21:\n",
    "        return bidder2\n",
    "    elif pb12 > pb21:\n",
    "        return bidder1\n",
    "    else:\n",
    "        #0 means a tie\n",
    "        return 0"
   ]
  },
  {
   "cell_type": "code",
   "execution_count": 172,
   "metadata": {},
   "outputs": [
    {
     "name": "stdout",
     "output_type": "stream",
     "text": [
      "d4735e3a265e16eee03f59718b9b5d03019c07d8b6c51f90da3a666eec13ab35\n"
     ]
    }
   ],
   "source": [
    "b1bid = rd.randint(1,20)\n",
    "x = bidSubmission(0,0,b1bid)\n",
    "print(bidComparison(x[0],x[1],x[2],x[3]))\n"
   ]
  },
  {
   "cell_type": "markdown",
   "metadata": {},
   "source": [
    "this part of the code simulates the envioronment where bidders want to raise the bid"
   ]
  },
  {
   "cell_type": "code",
   "execution_count": 173,
   "metadata": {},
   "outputs": [],
   "source": [
    "def bidRaise(bidderHighest):\n",
    "    bidComparison(1)\n",
    "    temp = rd.randint(0,len(listOfUID))\n",
    "    bidderNew = choice([i for i in listofBID if i not in listofBID[temp]])"
   ]
  }
 ],
 "metadata": {
  "kernelspec": {
   "display_name": "Python 3",
   "language": "python",
   "name": "python3"
  },
  "language_info": {
   "codemirror_mode": {
    "name": "ipython",
    "version": 3
   },
   "file_extension": ".py",
   "mimetype": "text/x-python",
   "name": "python",
   "nbconvert_exporter": "python",
   "pygments_lexer": "ipython3",
   "version": "3.10.12"
  }
 },
 "nbformat": 4,
 "nbformat_minor": 2
}
